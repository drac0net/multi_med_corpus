{
 "cells": [
  {
   "cell_type": "code",
   "execution_count": null,
   "id": "17dcf91b",
   "metadata": {},
   "outputs": [],
   "source": [
    "import os, time\n",
    "import nemo\n",
    "import nemo.collections.asr as nemo_asr\n",
    "import torch\n",
    "import copy\n",
    "import pytorch_lightning as ptl\n",
    "from scripts.tools import *\n",
    "\n",
    "from omegaconf import DictConfig, open_dict\n",
    "from pytorch_lightning import loggers as pl_loggers\n",
    "from pytorch_lightning.callbacks import ModelCheckpoint\n",
    "\n",
    "try:\n",
    "    from ruamel.yaml import YAML\n",
    "except ModuleNotFoundError:\n",
    "    from ruamel_yaml import YAML"
   ]
  },
  {
   "cell_type": "code",
   "execution_count": null,
   "id": "d7eb90b8",
   "metadata": {},
   "outputs": [],
   "source": [
    "# Cargar el modelo preentrenado\n",
    "mname = 'QuartzNet15x5Base-En'\n",
    "quartznet_model = nemo_asr.models.EncDecCTCModel.from_pretrained(model_name=mname)"
   ]
  },
  {
   "cell_type": "code",
   "execution_count": null,
   "id": "1de162ba",
   "metadata": {},
   "outputs": [],
   "source": [
    "basedir = '/workspace/nemo/TFM/'\n",
    "\n",
    "# Automated medical transcription [1411 archivos, 2.44 horas]\n",
    "amt_val_manifest = basedir + 'data_manifest/amt_val_metafile.json'\n",
    "amt_train_manifest = basedir + 'data_manifest/amt_train_metafile.json'\n",
    "amt_test_manifest = basedir + 'data_manifest/amt_test_metafile.json'\n",
    "# Medical speech transcription [6661 archivos, 8.46 horas]\n",
    "mst_val_manifest = basedir + 'data_manifest/mst_val_metafile.json'\n",
    "mst_train_manifest = basedir + 'data_manifest/mst_train_metafile.json'\n",
    "mst_test_manifest = basedir + 'data_manifest/mst_test_metafile.json'\n",
    "# Primock57 [6712 archivos, 8.31 horas]\n",
    "prim_val_manifest = basedir + 'data_manifest/prim_val_metafile.json'\n",
    "prim_train_manifest = basedir + 'data_manifest/prim_train_metafile.json'\n",
    "prim_test_manifest = basedir + 'data_manifest/prim_test_metafile.json'\n",
    "\n",
    "train_manifest = f\"{amt_train_manifest},{mst_train_manifest},{prim_train_manifest}\"\n",
    "val_manifest = f\"{amt_val_manifest},{mst_val_manifest},{prim_val_manifest}\"\n",
    "test_manifest = f\"{amt_test_manifest},{mst_test_manifest},{prim_test_manifest}\"\n",
    "\n",
    "test_list = [amt_test_manifest, mst_test_manifest, prim_test_manifest]\n"
   ]
  },
  {
   "cell_type": "code",
   "execution_count": null,
   "id": "0680c936",
   "metadata": {},
   "outputs": [],
   "source": [
    "config_path = basedir + 'config_asr.yaml'\n",
    "\n",
    "yaml = YAML(typ='safe')\n",
    "with open(config_path) as f:\n",
    "    params = yaml.load(f)\n",
    "    \n",
    "params['model']['train_ds']['batch_size'] = 16 #32\n",
    "params['model']['validation_ds']['batch_size'] = 8\n",
    "params['model']['train_ds']['manifest_filepath'] = train_manifest\n",
    "params['model']['validation_ds']['manifest_filepath'] = val_manifest\n",
    "params['model']['test_ds']['manifest_filepath'] = test_manifest"
   ]
  },
  {
   "cell_type": "code",
   "execution_count": null,
   "id": "110406a9-b9e5-4ef1-a2b9-7755cccadaa3",
   "metadata": {
    "tags": []
   },
   "outputs": [],
   "source": [
    "print_metric_medic(quartznet_model, test_list)"
   ]
  },
  {
   "cell_type": "code",
   "execution_count": null,
   "id": "9185bd5e",
   "metadata": {},
   "outputs": [],
   "source": [
    "# Modificamos el learning rate y el vocabulario\n",
    "new_opt = copy.deepcopy(params['model']['optim'])\n",
    "new_opt['lr'] = 0.001\n",
    "quartznet_model.setup_optimization(optim_config=DictConfig(new_opt))\n",
    "\n",
    "quartznet_model.change_vocabulary(\n",
    "    new_vocabulary=[\n",
    "        ' ', 'a', 'b', 'c', 'd', 'e', 'f', 'g', 'h', 'i', 'j', 'k', 'l', 'm', 'n',\n",
    "        'o', 'p', 'q', 'r', 's', 't', 'u', 'v', 'w', 'x', 'y', 'z', \"'\", \"!\", \"?\", \".\",\n",
    "        'A', 'B', 'C', 'D', 'E', 'F', 'G', 'H', 'I', 'J', 'K', 'L', 'M', 'N', 'O', 'P',\n",
    "        'Q', 'R', 'S', 'T', 'U', 'V', 'W', 'X', 'Y', 'Z'   \n",
    "    ]\n",
    ")\n",
    "\n",
    "# Cargamos el dataset\n",
    "quartznet_model.setup_training_data(train_data_config=params['model']['train_ds'])\n",
    "quartznet_model.setup_validation_data(val_data_config=params['model']['validation_ds'])\n",
    "quartznet_model.setup_test_data(test_data_config=params['model']['test_ds'])"
   ]
  },
  {
   "cell_type": "code",
   "execution_count": null,
   "id": "fb1a45d0",
   "metadata": {},
   "outputs": [],
   "source": [
    "if torch.cuda.is_available():\n",
    "  accelerator = 'gpu'\n",
    "else:\n",
    "  accelerator = 'cpu'\n",
    "\n",
    "torch.set_float32_matmul_precision('high')\n",
    "csv_logger = pl_loggers.CSVLogger(save_dir=\"./\")\n",
    "checkpoint_callback = ModelCheckpoint(monitor='val_wer')\n",
    "trainer = ptl.Trainer(devices=1, \n",
    "                      accelerator=accelerator, \n",
    "                      max_epochs=10, \n",
    "                      accumulate_grad_batches=1,\n",
    "                      enable_checkpointing=True,\n",
    "                      logger=csv_logger,\n",
    "                      log_every_n_steps=5,\n",
    "                      check_val_every_n_epoch=1,\n",
    "                      callbacks=[checkpoint_callback])\n",
    "\n",
    "quartznet_model.set_trainer(trainer)"
   ]
  },
  {
   "cell_type": "code",
   "execution_count": null,
   "id": "b3e31c63",
   "metadata": {},
   "outputs": [],
   "source": [
    "start = time.time()\n",
    "trainer.fit(quartznet_model)\n",
    "end = time.time()\n",
    "print(\"TIME:\", (end-start)/3600, \"h\")\n",
    "print(\"BEST MODEL PATH:\", checkpoint_callback.best_model_path)"
   ]
  },
  {
   "cell_type": "markdown",
   "id": "c588b184",
   "metadata": {},
   "source": [
    "# Test"
   ]
  },
  {
   "cell_type": "code",
   "execution_count": null,
   "id": "7d80be27",
   "metadata": {},
   "outputs": [],
   "source": [
    "print_metric_medic(quartznet_model, test_list)\n",
    "print_metric_libri(quartznet_model, '/workspace/nemo/TFM/LibriSpeech/dev-other')"
   ]
  },
  {
   "cell_type": "code",
   "execution_count": null,
   "id": "12292863",
   "metadata": {
    "tags": []
   },
   "outputs": [],
   "source": [
    "import matplotlib.pyplot as plt\n",
    "from matplotlib.ticker import FuncFormatter\n",
    "import pandas as pd\n",
    "\n",
    "log_version = str(csv_logger.version)\n",
    "print('log_version:', log_version)\n",
    "data = pd.read_csv(basedir+'lightning_logs/version_'+ log_version +'/metrics.csv')\n",
    "val_data = data.loc[pd.notna(data.val_wer)]\n",
    "\n",
    "# Loss\n",
    "plt.plot(data.global_step, data.train_loss, label='Entrenamiento')\n",
    "plt.plot(val_data.global_step, val_data.val_loss, label='Validación', marker='o')\n",
    "\n",
    "plt.xticks(rotation = 25)\n",
    "plt.xlabel('Pasos')\n",
    "plt.ylabel('Pérdida')\n",
    "plt.title('Valor de la pérdida', fontsize = 20)\n",
    "plt.grid()\n",
    "plt.legend()\n",
    "plt.show()\n",
    "\n",
    "# WER\n",
    "plt.plot(data.global_step, data.training_batch_wer, label='Entrenamiento')\n",
    "plt.plot(val_data.global_step, val_data.val_wer, label='Validación', marker='o')\n",
    "\n",
    "plt.gca().yaxis.set_major_formatter(FuncFormatter(lambda x,pos:format(x*100, \".0f\")))\n",
    "plt.xticks(rotation = 25)\n",
    "plt.xlabel('Pasos')\n",
    "plt.ylabel('WER (%)')\n",
    "plt.title('Word Error Rate', fontsize = 20)\n",
    "plt.grid()\n",
    "plt.legend()\n",
    "plt.show()"
   ]
  }
 ],
 "metadata": {
  "kernelspec": {
   "display_name": "Python 3 (ipykernel)",
   "language": "python",
   "name": "python3"
  },
  "language_info": {
   "codemirror_mode": {
    "name": "ipython",
    "version": 3
   },
   "file_extension": ".py",
   "mimetype": "text/x-python",
   "name": "python",
   "nbconvert_exporter": "python",
   "pygments_lexer": "ipython3",
   "version": "3.8.10"
  }
 },
 "nbformat": 4,
 "nbformat_minor": 5
}
