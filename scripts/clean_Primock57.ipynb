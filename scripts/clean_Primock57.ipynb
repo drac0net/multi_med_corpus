{
 "cells": [
  {
   "cell_type": "markdown",
   "id": "3c67646a-1945-4666-82aa-350bf0acb2ef",
   "metadata": {},
   "source": [
    "Antes de ejecutar esta celda se deben ejecutar los scripts `extract_utterances.py` y `textgrid_to_transcript.py` que se encuentran en la carpeta `scripts/` del dataset Primock57."
   ]
  },
  {
   "cell_type": "code",
   "execution_count": 1,
   "id": "9055374c",
   "metadata": {
    "tags": []
   },
   "outputs": [],
   "source": [
    "import os, re\n",
    "from mutagen.wave import WAVE\n",
    "from tools import prepare_text\n",
    "\n",
    "basedir = '/workspace/nemo/TFM/'\n",
    "\n",
    "# Ubicación de los WAV y las transcripciones\n",
    "audio_folder = basedir + 'datasets/primock57/output/audio_utterances/'\n",
    "transcript_file = basedir + 'datasets/primock57/output/transcript.ref.txt'\n",
    "\n",
    "fout_train = open(basedir + \"data_manifest/prim_train_metafile.json\", \"a\")\n",
    "fout_val = open(basedir + \"data_manifest/prim_val_metafile.json\", \"a\")\n",
    "fout_test = open(basedir + \"data_manifest/prim_test_metafile.json\", \"a\")\n",
    "\n",
    "global_count = 0\n",
    "split_val = 5600\n",
    "split_test = 6150\n",
    "fout = fout_train\n",
    "with open(transcript_file) as tfile:\n",
    "    for line in tfile:\n",
    "        if global_count == split_val: fout = fout_val\n",
    "        if global_count == split_test: fout = fout_test\n",
    "        name = re.search('\\((.*)\\)', line)\n",
    "        audiopath = audio_folder + name.group(1) + \".wav\"\n",
    "        clean_line = re.sub(\" \\(.*\\)\", \"\", line)\n",
    "        \n",
    "        if os.path.exists(audiopath):\n",
    "            audio = WAVE(audiopath)\n",
    "            audio_length = str(audio.info.length)\n",
    "        else:\n",
    "            audio_length = '0'\n",
    "        \n",
    "        fout.write('{\"audio_filepath\": \"' + audiopath + '\", \"duration\": ' + audio_length + \n",
    "                   ', \"text\": \"' + prepare_text(clean_line) + '\"}\\n')\n",
    "        global_count += 1\n",
    "        \n",
    "fout_train.close()\n",
    "fout_val.close()\n",
    "fout_test.close()\n",
    "\n"
   ]
  }
 ],
 "metadata": {
  "kernelspec": {
   "display_name": "Python 3 (ipykernel)",
   "language": "python",
   "name": "python3"
  },
  "language_info": {
   "codemirror_mode": {
    "name": "ipython",
    "version": 3
   },
   "file_extension": ".py",
   "mimetype": "text/x-python",
   "name": "python",
   "nbconvert_exporter": "python",
   "pygments_lexer": "ipython3",
   "version": "3.8.10"
  }
 },
 "nbformat": 4,
 "nbformat_minor": 5
}
